{
 "cells": [
  {
   "cell_type": "code",
   "execution_count": 6,
   "metadata": {},
   "outputs": [
    {
     "name": "stdout",
     "output_type": "stream",
     "text": [
      "TensorFlow version:  2.12.0\n",
      "Num GPUs Available:  1\n",
      "Device name: '/device:GPU:0'\n",
      "Device properties: {'compute_capability': (7, 5), 'device_name': 'NVIDIA GeForce RTX 2060 SUPER'}\n",
      "Não suporta bfloat16.\n"
     ]
    },
    {
     "name": "stderr",
     "output_type": "stream",
     "text": [
      "2024-06-30 01:02:56.062924: I tensorflow/compiler/xla/stream_executor/cuda/cuda_gpu_executor.cc:996] successful NUMA node read from SysFS had negative value (-1), but there must be at least one NUMA node, so returning NUMA node zero. See more at https://github.com/torvalds/linux/blob/v6.0/Documentation/ABI/testing/sysfs-bus-pci#L344-L355\n",
      "2024-06-30 01:02:56.063166: I tensorflow/compiler/xla/stream_executor/cuda/cuda_gpu_executor.cc:996] successful NUMA node read from SysFS had negative value (-1), but there must be at least one NUMA node, so returning NUMA node zero. See more at https://github.com/torvalds/linux/blob/v6.0/Documentation/ABI/testing/sysfs-bus-pci#L344-L355\n",
      "2024-06-30 01:02:56.063289: I tensorflow/compiler/xla/stream_executor/cuda/cuda_gpu_executor.cc:996] successful NUMA node read from SysFS had negative value (-1), but there must be at least one NUMA node, so returning NUMA node zero. See more at https://github.com/torvalds/linux/blob/v6.0/Documentation/ABI/testing/sysfs-bus-pci#L344-L355\n",
      "2024-06-30 01:02:56.063453: I tensorflow/compiler/xla/stream_executor/cuda/cuda_gpu_executor.cc:996] successful NUMA node read from SysFS had negative value (-1), but there must be at least one NUMA node, so returning NUMA node zero. See more at https://github.com/torvalds/linux/blob/v6.0/Documentation/ABI/testing/sysfs-bus-pci#L344-L355\n",
      "2024-06-30 01:02:56.063570: I tensorflow/compiler/xla/stream_executor/cuda/cuda_gpu_executor.cc:996] successful NUMA node read from SysFS had negative value (-1), but there must be at least one NUMA node, so returning NUMA node zero. See more at https://github.com/torvalds/linux/blob/v6.0/Documentation/ABI/testing/sysfs-bus-pci#L344-L355\n",
      "2024-06-30 01:02:56.063656: I tensorflow/core/common_runtime/gpu/gpu_device.cc:1635] Created device /device:GPU:0 with 6620 MB memory:  -> device: 0, name: NVIDIA GeForce RTX 2060 SUPER, pci bus id: 0000:01:00.0, compute capability: 7.5\n",
      "2024-06-30 01:02:56.063860: I tensorflow/compiler/xla/stream_executor/cuda/cuda_gpu_executor.cc:996] successful NUMA node read from SysFS had negative value (-1), but there must be at least one NUMA node, so returning NUMA node zero. See more at https://github.com/torvalds/linux/blob/v6.0/Documentation/ABI/testing/sysfs-bus-pci#L344-L355\n",
      "2024-06-30 01:02:56.064070: I tensorflow/compiler/xla/stream_executor/cuda/cuda_gpu_executor.cc:996] successful NUMA node read from SysFS had negative value (-1), but there must be at least one NUMA node, so returning NUMA node zero. See more at https://github.com/torvalds/linux/blob/v6.0/Documentation/ABI/testing/sysfs-bus-pci#L344-L355\n"
     ]
    }
   ],
   "source": [
    "print(\"TensorFlow version: \", tf.__version__)\n",
    "print(\"Num GPUs Available: \", len(tf.config.list_physical_devices('GPU')))\n",
    "\n",
    "\n",
    "device_name = tf.test.gpu_device_name()\n",
    "if device_name:\n",
    "    print(f\"Device name: '{device_name}'\")\n",
    "    print(\"Device properties:\", tf.config.experimental.get_device_details(tf.config.experimental.list_physical_devices('GPU')[0]))\n",
    "else:\n",
    "    print(\"No GPU device found.\")\n",
    "    \n",
    "# Check bfloat16 support\n",
    "bf16_supported = any(\n",
    "    'bfloat16' in tf.config.experimental.get_device_details(gpu_device).get('compute_capability', '')\n",
    "    for gpu_device in tf.config.experimental.list_physical_devices('GPU')\n",
    ")\n",
    "\n",
    "print(\"Suporta bfloat16.\" if bf16_supported else \"Não suporta bfloat16.\")"
   ]
  },
  {
   "cell_type": "markdown",
   "metadata": {
    "id": "rL-LzAqpoGLC"
   },
   "source": [
    "# Ungraded Lab: Tokenizer Basics\n",
    "\n",
    "Na maioria das tarefas de PNL, o passo inicial na preparação dos seus dados é extrair um vocabulário de palavras do seu *corpus* (ou seja, textos de entrada). Você precisará definir como representar os textos em representações numéricas que podem ser usadas para treinar uma rede neural. Essas representações são chamadas de *tokens* e Tensorflow e Keras facilitam sua geração usando suas APIs. Você verá como fazer isso nas próximas células."
   ]
  },
  {
   "cell_type": "markdown",
   "metadata": {
    "id": "-nt3uR9TPrUt"
   },
   "source": [
    "## Gerando o Vocabulário\n",
    "\n",
    "Neste notebook, você verá primeiro como pode fornecer um dicionário de consulta para cada palavra. O código abaixo pega uma lista de frases, depois pega cada palavra dessas frases e a atribui a um número inteiro. Isso é feito usando o método [fit_on_texts()](https://www.tensorflow.org/api_docs/python/tf/keras/preprocessing/text/Tokenizer#fit_on_texts) e você pode obter o resultado olhando a propriedade `word_index`. <u>Palavras mais frequentes têm um índice menor</u>."
   ]
  },
  {
   "cell_type": "code",
   "execution_count": 3,
   "metadata": {
    "id": "zaCMcjMQifQc"
   },
   "outputs": [
    {
     "name": "stdout",
     "output_type": "stream",
     "text": [
      "{'i': 1, 'love': 2, 'my': 3, 'dog': 4, 'cat': 5}\n"
     ]
    }
   ],
   "source": [
    "from tensorflow.keras.preprocessing.text import Tokenizer\n",
    "\n",
    "# Define input sentences\n",
    "sentences = [\n",
    "    'i love my dog',\n",
    "    'I, love my cat'\n",
    "    ]\n",
    "\n",
    "# Initialize the Tokenizer class\n",
    "tokenizer = Tokenizer(num_words = 100)\n",
    "\n",
    "# Generate indices for each word in the corpus\n",
    "tokenizer.fit_on_texts(sentences)\n",
    "\n",
    "# Get the indices and print it\n",
    "word_index = tokenizer.word_index\n",
    "print(word_index)"
   ]
  },
  {
   "cell_type": "markdown",
   "metadata": {
    "id": "uTPWesNaRdX2"
   },
   "source": [
    "The `num_words` parameter used in the initializer specifies the maximum number of words minus one (based on frequency) to keep when generating sequences. You will see this in a later exercise. For now, the important thing to note is it does not affect how the `word_index` dictionary is generated. You can try passing `1` instead of `100` as shown on the next cell and you will arrive at the same `word_index`. \n",
    "\n",
    "Also notice that by default, all punctuation is ignored and words are converted to lower case. You can override these behaviors by modifying the `filters` and `lower` arguments of the `Tokenizer` class as described [here](https://www.tensorflow.org/api_docs/python/tf/keras/preprocessing/text/Tokenizer#arguments). You can try modifying these in the next cell below and compare the output to the one generated above."
   ]
  },
  {
   "cell_type": "code",
   "execution_count": null,
   "metadata": {
    "id": "VX1A1pDNoVKm"
   },
   "outputs": [],
   "source": [
    "# Define input sentences\n",
    "sentences = [\n",
    "    'i love my dog',\n",
    "    'I, love my cat',\n",
    "    'You love my dog!'\n",
    "]\n",
    "\n",
    "# Initialize the Tokenizer class\n",
    "tokenizer = Tokenizer(num_words = 1)\n",
    "\n",
    "# Generate indices for each word in the corpus\n",
    "tokenizer.fit_on_texts(sentences)\n",
    "\n",
    "# Get the indices and print it\n",
    "word_index = tokenizer.word_index\n",
    "print(word_index)"
   ]
  },
  {
   "cell_type": "markdown",
   "metadata": {
    "id": "c9LFfwBffDaj"
   },
   "source": [
    "That concludes this short exercise on tokenizing input texts!"
   ]
  }
 ],
 "metadata": {
  "colab": {
   "collapsed_sections": [],
   "name": "C3_W1_Lab_1_tokenize_basic.ipynb",
   "private_outputs": true,
   "provenance": [
    {
     "file_id": "https://github.com/https-deeplearning-ai/tensorflow-1-public/blob/adding_C3/C3/W1/ungraded_labs/C3_W1_Lab_1_tokenize_basic.ipynb",
     "timestamp": 1642431620601
    }
   ]
  },
  "kernelspec": {
   "display_name": "Python 3 (ipykernel)",
   "language": "python",
   "name": "python3"
  },
  "language_info": {
   "codemirror_mode": {
    "name": "ipython",
    "version": 3
   },
   "file_extension": ".py",
   "mimetype": "text/x-python",
   "name": "python",
   "nbconvert_exporter": "python",
   "pygments_lexer": "ipython3",
   "version": "3.10.9"
  }
 },
 "nbformat": 4,
 "nbformat_minor": 4
}
