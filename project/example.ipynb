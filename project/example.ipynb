{
 "cells": [
  {
   "cell_type": "code",
   "execution_count": 1,
   "metadata": {
    "execution": {
     "iopub.execute_input": "2024-06-30T02:26:38.435402Z",
     "iopub.status.busy": "2024-06-30T02:26:38.435221Z",
     "iopub.status.idle": "2024-06-30T02:26:40.789915Z",
     "shell.execute_reply": "2024-06-30T02:26:40.789430Z",
     "shell.execute_reply.started": "2024-06-30T02:26:38.435387Z"
    }
   },
   "outputs": [
    {
     "name": "stdout",
     "output_type": "stream",
     "text": [
      "TensorFlow version:  2.12.0\n",
      "Num GPUs Available:  1\n",
      "Device name: '/device:GPU:0'\n",
      "Device properties: {'compute_capability': (7, 5), 'device_name': 'NVIDIA GeForce RTX 2060 SUPER'}\n",
      "Não suporta bfloat16.\n"
     ]
    }
   ],
   "source": [
    "import tensorflow as tf\n",
    "\n",
    "print(\"TensorFlow version: \", tf.__version__)\n",
    "print(\"Num GPUs Available: \", len(tf.config.list_physical_devices(\"GPU\")))\n",
    "\n",
    "\n",
    "device_name = tf.test.gpu_device_name()\n",
    "if device_name:\n",
    "    print(f\"Device name: '{device_name}'\")\n",
    "    print(\n",
    "        \"Device properties:\",\n",
    "        tf.config.experimental.get_device_details(\n",
    "            tf.config.experimental.list_physical_devices(\"GPU\")[0]\n",
    "        ),\n",
    "    )\n",
    "else:\n",
    "    print(\"No GPU device found.\")\n",
    "\n",
    "# Check bfloat16 support\n",
    "bf16_supported = any(\n",
    "    \"bfloat16\"\n",
    "    in tf.config.experimental.get_device_details(gpu_device).get(\n",
    "        \"compute_capability\", \"\"\n",
    "    )\n",
    "    for gpu_device in tf.config.experimental.list_physical_devices(\"GPU\")\n",
    ")\n",
    "\n",
    "print(\"Suporta bfloat16.\" if bf16_supported else \"Não suporta bfloat16.\")"
   ]
  },
  {
   "cell_type": "code",
   "execution_count": null,
   "metadata": {},
   "outputs": [],
   "source": []
  }
 ],
 "metadata": {
  "colab": {
   "collapsed_sections": [],
   "name": "C3_W1_Lab_1_tokenize_basic.ipynb",
   "private_outputs": true,
   "provenance": [
    {
     "file_id": "https://github.com/https-deeplearning-ai/tensorflow-1-public/blob/adding_C3/C3/W1/ungraded_labs/C3_W1_Lab_1_tokenize_basic.ipynb",
     "timestamp": 1642431620601
    }
   ]
  },
  "kernelspec": {
   "display_name": "Python 3 (ipykernel)",
   "language": "python",
   "name": "python3"
  },
  "language_info": {
   "codemirror_mode": {
    "name": "ipython",
    "version": 3
   },
   "file_extension": ".py",
   "mimetype": "text/x-python",
   "name": "python",
   "nbconvert_exporter": "python",
   "pygments_lexer": "ipython3",
   "version": "3.10.9"
  }
 },
 "nbformat": 4,
 "nbformat_minor": 4
}
